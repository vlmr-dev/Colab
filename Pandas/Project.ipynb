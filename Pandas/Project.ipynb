{
  "cells": [
    {
      "cell_type": "markdown",
      "metadata": {
        "id": "view-in-github",
        "colab_type": "text"
      },
      "source": [
        "<a href=\"https://colab.research.google.com/github/vlmr-dev/Colab/blob/main/Pandas/Project.ipynb\" target=\"_parent\"><img src=\"https://colab.research.google.com/assets/colab-badge.svg\" alt=\"Open In Colab\"/></a>"
      ]
    },
    {
      "cell_type": "markdown",
      "source": [
        "Análise dos dados das pessoas vacinadas em 2021"
      ],
      "metadata": {
        "id": "qtRtB5G5WZJQ"
      }
    },
    {
      "cell_type": "code",
      "source": [
        "# -*- coding: utf-8 -*-\n",
        "\n",
        "url = 'http://dados.recife.pe.gov.br/dataset/7ccb3816-0d62-49e1-b39a-3159870883b0/resource/99b42b09-95af-47de-8411-ab99c380c3ef/download/vacinados.csv'\n",
        "\n",
        "import pandas as pd\n",
        "\n",
        "df_rec = pd.read_csv(url, sep=';', encoding='utf-8')"
      ],
      "metadata": {
        "colab": {
          "base_uri": "https://localhost:8080/"
        },
        "id": "C108u8hwWzv2",
        "outputId": "79dac6ba-592f-4381-c2ae-b5fd21e89d3b"
      },
      "execution_count": null,
      "outputs": [
        {
          "output_type": "stream",
          "name": "stderr",
          "text": [
            "<ipython-input-1-2cd826b612c7>:7: DtypeWarning: Columns (1) have mixed types. Specify dtype option on import or set low_memory=False.\n",
            "  df_rec = pd.read_csv(url, sep=';', encoding='utf-8')\n"
          ]
        }
      ]
    },
    {
      "cell_type": "markdown",
      "source": [
        "Verificações:"
      ],
      "metadata": {
        "id": "LVLaAD1YZRH6"
      }
    },
    {
      "cell_type": "code",
      "source": [
        "df_rec.head(3)"
      ],
      "metadata": {
        "colab": {
          "base_uri": "https://localhost:8080/",
          "height": 383
        },
        "id": "ig4cNjNZZVZy",
        "outputId": "752dd5b6-567b-4fa9-9856-7579b03b8e38"
      },
      "execution_count": 2,
      "outputs": [
        {
          "output_type": "execute_result",
          "data": {
            "text/plain": [
              "   faixa_etaria idade      sexo raca_cor                municipio  \\\n",
              "0  40 a 44 anos  40.0  FEMININO   BRANCA  JABOATÃO DOS GUARARAPES   \n",
              "1  40 a 44 anos  41.0  FEMININO   BRANCA  JABOATÃO DOS GUARARAPES   \n",
              "2  10 a 14 anos  14.0  FEMININO    PARDA     SÃO LOURENÇO DA MATA   \n",
              "\n",
              "                                  grupo categoria        lote  \\\n",
              "0       PÚBLICO EM GERAL (18 a 59 anos)    OUTROS  214VCD085W   \n",
              "1       PÚBLICO EM GERAL (18 a 59 anos)    OUTROS  219VCD273Z   \n",
              "2   PÚBLICO EM GERAL - MENOR DE 18 ANOS    OUTROS      FJ2594   \n",
              "\n",
              "                                   vacina_fabricante  descricao_dose  \\\n",
              "0  2 - CHADOX1NCOV-19 - OXFORD/ASTRAZENECA (FIOCRUZ)             1.0   \n",
              "1  2 - CHADOX1NCOV-19 - OXFORD/ASTRAZENECA (FIOCRUZ)             2.0   \n",
              "2                             3 - COMIRNATY (PFIZER)             1.0   \n",
              "\n",
              "                                                cnes  sistema_origem  \\\n",
              "0  DS 1: CNES: 000507 - POLICLÍNICA GOUVEIA DE BA...  Conecta Recife   \n",
              "1    DS 5: CNES: 000701 - MATERNIDADE BANDEIRA FILHO  Conecta Recife   \n",
              "2    DS 5: CNES: 000701 - MATERNIDADE BANDEIRA FILHO             NÃO   \n",
              "\n",
              "          data_vacinacao  \n",
              "0  2021-07-16 00:00:00.0  \n",
              "1  2021-10-14 00:00:00.0  \n",
              "2  2021-11-18 00:00:00.0  "
            ],
            "text/html": [
              "\n",
              "  <div id=\"df-024de3d5-300f-4760-846f-093e2a89f9ae\" class=\"colab-df-container\">\n",
              "    <div>\n",
              "<style scoped>\n",
              "    .dataframe tbody tr th:only-of-type {\n",
              "        vertical-align: middle;\n",
              "    }\n",
              "\n",
              "    .dataframe tbody tr th {\n",
              "        vertical-align: top;\n",
              "    }\n",
              "\n",
              "    .dataframe thead th {\n",
              "        text-align: right;\n",
              "    }\n",
              "</style>\n",
              "<table border=\"1\" class=\"dataframe\">\n",
              "  <thead>\n",
              "    <tr style=\"text-align: right;\">\n",
              "      <th></th>\n",
              "      <th>faixa_etaria</th>\n",
              "      <th>idade</th>\n",
              "      <th>sexo</th>\n",
              "      <th>raca_cor</th>\n",
              "      <th>municipio</th>\n",
              "      <th>grupo</th>\n",
              "      <th>categoria</th>\n",
              "      <th>lote</th>\n",
              "      <th>vacina_fabricante</th>\n",
              "      <th>descricao_dose</th>\n",
              "      <th>cnes</th>\n",
              "      <th>sistema_origem</th>\n",
              "      <th>data_vacinacao</th>\n",
              "    </tr>\n",
              "  </thead>\n",
              "  <tbody>\n",
              "    <tr>\n",
              "      <th>0</th>\n",
              "      <td>40 a 44 anos</td>\n",
              "      <td>40.0</td>\n",
              "      <td>FEMININO</td>\n",
              "      <td>BRANCA</td>\n",
              "      <td>JABOATÃO DOS GUARARAPES</td>\n",
              "      <td>PÚBLICO EM GERAL (18 a 59 anos)</td>\n",
              "      <td>OUTROS</td>\n",
              "      <td>214VCD085W</td>\n",
              "      <td>2 - CHADOX1NCOV-19 - OXFORD/ASTRAZENECA (FIOCRUZ)</td>\n",
              "      <td>1.0</td>\n",
              "      <td>DS 1: CNES: 000507 - POLICLÍNICA GOUVEIA DE BA...</td>\n",
              "      <td>Conecta Recife</td>\n",
              "      <td>2021-07-16 00:00:00.0</td>\n",
              "    </tr>\n",
              "    <tr>\n",
              "      <th>1</th>\n",
              "      <td>40 a 44 anos</td>\n",
              "      <td>41.0</td>\n",
              "      <td>FEMININO</td>\n",
              "      <td>BRANCA</td>\n",
              "      <td>JABOATÃO DOS GUARARAPES</td>\n",
              "      <td>PÚBLICO EM GERAL (18 a 59 anos)</td>\n",
              "      <td>OUTROS</td>\n",
              "      <td>219VCD273Z</td>\n",
              "      <td>2 - CHADOX1NCOV-19 - OXFORD/ASTRAZENECA (FIOCRUZ)</td>\n",
              "      <td>2.0</td>\n",
              "      <td>DS 5: CNES: 000701 - MATERNIDADE BANDEIRA FILHO</td>\n",
              "      <td>Conecta Recife</td>\n",
              "      <td>2021-10-14 00:00:00.0</td>\n",
              "    </tr>\n",
              "    <tr>\n",
              "      <th>2</th>\n",
              "      <td>10 a 14 anos</td>\n",
              "      <td>14.0</td>\n",
              "      <td>FEMININO</td>\n",
              "      <td>PARDA</td>\n",
              "      <td>SÃO LOURENÇO DA MATA</td>\n",
              "      <td>PÚBLICO EM GERAL - MENOR DE 18 ANOS</td>\n",
              "      <td>OUTROS</td>\n",
              "      <td>FJ2594</td>\n",
              "      <td>3 - COMIRNATY (PFIZER)</td>\n",
              "      <td>1.0</td>\n",
              "      <td>DS 5: CNES: 000701 - MATERNIDADE BANDEIRA FILHO</td>\n",
              "      <td>NÃO</td>\n",
              "      <td>2021-11-18 00:00:00.0</td>\n",
              "    </tr>\n",
              "  </tbody>\n",
              "</table>\n",
              "</div>\n",
              "    <div class=\"colab-df-buttons\">\n",
              "\n",
              "  <div class=\"colab-df-container\">\n",
              "    <button class=\"colab-df-convert\" onclick=\"convertToInteractive('df-024de3d5-300f-4760-846f-093e2a89f9ae')\"\n",
              "            title=\"Convert this dataframe to an interactive table.\"\n",
              "            style=\"display:none;\">\n",
              "\n",
              "  <svg xmlns=\"http://www.w3.org/2000/svg\" height=\"24px\" viewBox=\"0 -960 960 960\">\n",
              "    <path d=\"M120-120v-720h720v720H120Zm60-500h600v-160H180v160Zm220 220h160v-160H400v160Zm0 220h160v-160H400v160ZM180-400h160v-160H180v160Zm440 0h160v-160H620v160ZM180-180h160v-160H180v160Zm440 0h160v-160H620v160Z\"/>\n",
              "  </svg>\n",
              "    </button>\n",
              "\n",
              "  <style>\n",
              "    .colab-df-container {\n",
              "      display:flex;\n",
              "      gap: 12px;\n",
              "    }\n",
              "\n",
              "    .colab-df-convert {\n",
              "      background-color: #E8F0FE;\n",
              "      border: none;\n",
              "      border-radius: 50%;\n",
              "      cursor: pointer;\n",
              "      display: none;\n",
              "      fill: #1967D2;\n",
              "      height: 32px;\n",
              "      padding: 0 0 0 0;\n",
              "      width: 32px;\n",
              "    }\n",
              "\n",
              "    .colab-df-convert:hover {\n",
              "      background-color: #E2EBFA;\n",
              "      box-shadow: 0px 1px 2px rgba(60, 64, 67, 0.3), 0px 1px 3px 1px rgba(60, 64, 67, 0.15);\n",
              "      fill: #174EA6;\n",
              "    }\n",
              "\n",
              "    .colab-df-buttons div {\n",
              "      margin-bottom: 4px;\n",
              "    }\n",
              "\n",
              "    [theme=dark] .colab-df-convert {\n",
              "      background-color: #3B4455;\n",
              "      fill: #D2E3FC;\n",
              "    }\n",
              "\n",
              "    [theme=dark] .colab-df-convert:hover {\n",
              "      background-color: #434B5C;\n",
              "      box-shadow: 0px 1px 3px 1px rgba(0, 0, 0, 0.15);\n",
              "      filter: drop-shadow(0px 1px 2px rgba(0, 0, 0, 0.3));\n",
              "      fill: #FFFFFF;\n",
              "    }\n",
              "  </style>\n",
              "\n",
              "    <script>\n",
              "      const buttonEl =\n",
              "        document.querySelector('#df-024de3d5-300f-4760-846f-093e2a89f9ae button.colab-df-convert');\n",
              "      buttonEl.style.display =\n",
              "        google.colab.kernel.accessAllowed ? 'block' : 'none';\n",
              "\n",
              "      async function convertToInteractive(key) {\n",
              "        const element = document.querySelector('#df-024de3d5-300f-4760-846f-093e2a89f9ae');\n",
              "        const dataTable =\n",
              "          await google.colab.kernel.invokeFunction('convertToInteractive',\n",
              "                                                    [key], {});\n",
              "        if (!dataTable) return;\n",
              "\n",
              "        const docLinkHtml = 'Like what you see? Visit the ' +\n",
              "          '<a target=\"_blank\" href=https://colab.research.google.com/notebooks/data_table.ipynb>data table notebook</a>'\n",
              "          + ' to learn more about interactive tables.';\n",
              "        element.innerHTML = '';\n",
              "        dataTable['output_type'] = 'display_data';\n",
              "        await google.colab.output.renderOutput(dataTable, element);\n",
              "        const docLink = document.createElement('div');\n",
              "        docLink.innerHTML = docLinkHtml;\n",
              "        element.appendChild(docLink);\n",
              "      }\n",
              "    </script>\n",
              "  </div>\n",
              "\n",
              "\n",
              "<div id=\"df-be28eb67-aa07-46bb-ad3a-8ad5f4dfd93c\">\n",
              "  <button class=\"colab-df-quickchart\" onclick=\"quickchart('df-be28eb67-aa07-46bb-ad3a-8ad5f4dfd93c')\"\n",
              "            title=\"Suggest charts\"\n",
              "            style=\"display:none;\">\n",
              "\n",
              "<svg xmlns=\"http://www.w3.org/2000/svg\" height=\"24px\"viewBox=\"0 0 24 24\"\n",
              "     width=\"24px\">\n",
              "    <g>\n",
              "        <path d=\"M19 3H5c-1.1 0-2 .9-2 2v14c0 1.1.9 2 2 2h14c1.1 0 2-.9 2-2V5c0-1.1-.9-2-2-2zM9 17H7v-7h2v7zm4 0h-2V7h2v10zm4 0h-2v-4h2v4z\"/>\n",
              "    </g>\n",
              "</svg>\n",
              "  </button>\n",
              "\n",
              "<style>\n",
              "  .colab-df-quickchart {\n",
              "      --bg-color: #E8F0FE;\n",
              "      --fill-color: #1967D2;\n",
              "      --hover-bg-color: #E2EBFA;\n",
              "      --hover-fill-color: #174EA6;\n",
              "      --disabled-fill-color: #AAA;\n",
              "      --disabled-bg-color: #DDD;\n",
              "  }\n",
              "\n",
              "  [theme=dark] .colab-df-quickchart {\n",
              "      --bg-color: #3B4455;\n",
              "      --fill-color: #D2E3FC;\n",
              "      --hover-bg-color: #434B5C;\n",
              "      --hover-fill-color: #FFFFFF;\n",
              "      --disabled-bg-color: #3B4455;\n",
              "      --disabled-fill-color: #666;\n",
              "  }\n",
              "\n",
              "  .colab-df-quickchart {\n",
              "    background-color: var(--bg-color);\n",
              "    border: none;\n",
              "    border-radius: 50%;\n",
              "    cursor: pointer;\n",
              "    display: none;\n",
              "    fill: var(--fill-color);\n",
              "    height: 32px;\n",
              "    padding: 0;\n",
              "    width: 32px;\n",
              "  }\n",
              "\n",
              "  .colab-df-quickchart:hover {\n",
              "    background-color: var(--hover-bg-color);\n",
              "    box-shadow: 0 1px 2px rgba(60, 64, 67, 0.3), 0 1px 3px 1px rgba(60, 64, 67, 0.15);\n",
              "    fill: var(--button-hover-fill-color);\n",
              "  }\n",
              "\n",
              "  .colab-df-quickchart-complete:disabled,\n",
              "  .colab-df-quickchart-complete:disabled:hover {\n",
              "    background-color: var(--disabled-bg-color);\n",
              "    fill: var(--disabled-fill-color);\n",
              "    box-shadow: none;\n",
              "  }\n",
              "\n",
              "  .colab-df-spinner {\n",
              "    border: 2px solid var(--fill-color);\n",
              "    border-color: transparent;\n",
              "    border-bottom-color: var(--fill-color);\n",
              "    animation:\n",
              "      spin 1s steps(1) infinite;\n",
              "  }\n",
              "\n",
              "  @keyframes spin {\n",
              "    0% {\n",
              "      border-color: transparent;\n",
              "      border-bottom-color: var(--fill-color);\n",
              "      border-left-color: var(--fill-color);\n",
              "    }\n",
              "    20% {\n",
              "      border-color: transparent;\n",
              "      border-left-color: var(--fill-color);\n",
              "      border-top-color: var(--fill-color);\n",
              "    }\n",
              "    30% {\n",
              "      border-color: transparent;\n",
              "      border-left-color: var(--fill-color);\n",
              "      border-top-color: var(--fill-color);\n",
              "      border-right-color: var(--fill-color);\n",
              "    }\n",
              "    40% {\n",
              "      border-color: transparent;\n",
              "      border-right-color: var(--fill-color);\n",
              "      border-top-color: var(--fill-color);\n",
              "    }\n",
              "    60% {\n",
              "      border-color: transparent;\n",
              "      border-right-color: var(--fill-color);\n",
              "    }\n",
              "    80% {\n",
              "      border-color: transparent;\n",
              "      border-right-color: var(--fill-color);\n",
              "      border-bottom-color: var(--fill-color);\n",
              "    }\n",
              "    90% {\n",
              "      border-color: transparent;\n",
              "      border-bottom-color: var(--fill-color);\n",
              "    }\n",
              "  }\n",
              "</style>\n",
              "\n",
              "  <script>\n",
              "    async function quickchart(key) {\n",
              "      const quickchartButtonEl =\n",
              "        document.querySelector('#' + key + ' button');\n",
              "      quickchartButtonEl.disabled = true;  // To prevent multiple clicks.\n",
              "      quickchartButtonEl.classList.add('colab-df-spinner');\n",
              "      try {\n",
              "        const charts = await google.colab.kernel.invokeFunction(\n",
              "            'suggestCharts', [key], {});\n",
              "      } catch (error) {\n",
              "        console.error('Error during call to suggestCharts:', error);\n",
              "      }\n",
              "      quickchartButtonEl.classList.remove('colab-df-spinner');\n",
              "      quickchartButtonEl.classList.add('colab-df-quickchart-complete');\n",
              "    }\n",
              "    (() => {\n",
              "      let quickchartButtonEl =\n",
              "        document.querySelector('#df-be28eb67-aa07-46bb-ad3a-8ad5f4dfd93c button');\n",
              "      quickchartButtonEl.style.display =\n",
              "        google.colab.kernel.accessAllowed ? 'block' : 'none';\n",
              "    })();\n",
              "  </script>\n",
              "</div>\n",
              "    </div>\n",
              "  </div>\n"
            ]
          },
          "metadata": {},
          "execution_count": 2
        }
      ]
    },
    {
      "cell_type": "code",
      "source": [
        "df_rec.columns"
      ],
      "metadata": {
        "colab": {
          "base_uri": "https://localhost:8080/"
        },
        "id": "7o3_4jxKZdPM",
        "outputId": "ae8ec6db-9a46-438e-cca3-af4ffcf92fe9"
      },
      "execution_count": 3,
      "outputs": [
        {
          "output_type": "execute_result",
          "data": {
            "text/plain": [
              "Index(['faixa_etaria', 'idade', 'sexo', 'raca_cor', 'municipio', 'grupo',\n",
              "       'categoria', 'lote', 'vacina_fabricante', 'descricao_dose', 'cnes',\n",
              "       'sistema_origem', 'data_vacinacao'],\n",
              "      dtype='object')"
            ]
          },
          "metadata": {},
          "execution_count": 3
        }
      ]
    },
    {
      "cell_type": "markdown",
      "source": [
        "1 - Calcule e exiba o número total de pessoas vacinadas."
      ],
      "metadata": {
        "id": "CXjeyvtAZ3X4"
      }
    },
    {
      "cell_type": "code",
      "source": [
        "# Convertendo a coluna 'data_vacinacao' para o tipo datetime\n",
        "df_rec['data_vacinacao'] = pd.to_datetime(df_rec['data_vacinacao'])\n",
        "\n",
        "# Calculando o número total de pessoas vacinadas\n",
        "total_pessoas_vacinadas = df_rec.shape[0]\n",
        "\n",
        "# Exibindo o resultado\n",
        "print(f'O número total de pessoas vacinadas é {total_pessoas_vacinadas}')"
      ],
      "metadata": {
        "colab": {
          "base_uri": "https://localhost:8080/"
        },
        "id": "FIdKZFvSZ4hh",
        "outputId": "33033a86-f932-42be-d671-defe26868c18"
      },
      "execution_count": 4,
      "outputs": [
        {
          "output_type": "stream",
          "name": "stdout",
          "text": [
            "O número total de pessoas vacinadas é 3041498\n"
          ]
        }
      ]
    }
  ],
  "metadata": {
    "colab": {
      "provenance": [],
      "authorship_tag": "ABX9TyPDf7mHuJWGhdphAmdktumP",
      "include_colab_link": true
    },
    "kernelspec": {
      "display_name": "Python 3",
      "name": "python3"
    },
    "language_info": {
      "name": "python"
    }
  },
  "nbformat": 4,
  "nbformat_minor": 0
}