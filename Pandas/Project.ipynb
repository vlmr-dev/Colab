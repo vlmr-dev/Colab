{
  "cells": [
    {
      "cell_type": "markdown",
      "metadata": {
        "id": "view-in-github",
        "colab_type": "text"
      },
      "source": [
        "<a href=\"https://colab.research.google.com/github/vlmr-dev/Colab/blob/main/Pandas/Project.ipynb\" target=\"_parent\"><img src=\"https://colab.research.google.com/assets/colab-badge.svg\" alt=\"Open In Colab\"/></a>"
      ]
    },
    {
      "cell_type": "markdown",
      "source": [
        "Análise dos dados das pessoas vacinadas em 2021"
      ],
      "metadata": {
        "id": "qtRtB5G5WZJQ"
      }
    },
    {
      "cell_type": "code",
      "source": [
        "# -*- coding: utf-8 -*-\n",
        "\n",
        "url = 'http://dados.recife.pe.gov.br/dataset/7ccb3816-0d62-49e1-b39a-3159870883b0/resource/99b42b09-95af-47de-8411-ab99c380c3ef/download/vacinados.csv'\n",
        "\n",
        "import pandas as pd\n",
        "\n",
        "df_rec = pd.read_csv(url, sep=';', encoding='utf-8')"
      ],
      "metadata": {
        "colab": {
          "base_uri": "https://localhost:8080/"
        },
        "id": "C108u8hwWzv2",
        "outputId": "79dac6ba-592f-4381-c2ae-b5fd21e89d3b"
      },
      "execution_count": null,
      "outputs": [
        {
          "output_type": "stream",
          "name": "stderr",
          "text": [
            "<ipython-input-1-2cd826b612c7>:7: DtypeWarning: Columns (1) have mixed types. Specify dtype option on import or set low_memory=False.\n",
            "  df_rec = pd.read_csv(url, sep=';', encoding='utf-8')\n"
          ]
        }
      ]
    },
    {
      "cell_type": "markdown",
      "source": [
        "Verificações:"
      ],
      "metadata": {
        "id": "LVLaAD1YZRH6"
      }
    },
    {
      "cell_type": "code",
      "source": [
        "df_rec.head(3)"
      ],
      "metadata": {
        "colab": {
          "base_uri": "https://localhost:8080/",
          "height": 383
        },
        "id": "ig4cNjNZZVZy",
        "outputId": "752dd5b6-567b-4fa9-9856-7579b03b8e38"
      },
      "execution_count": 2,
      "outputs": [
        {
          "output_type": "execute_result",
          "data": {
            "text/plain": [
              "   faixa_etaria idade      sexo raca_cor                municipio  \\\n",
              "0  40 a 44 anos  40.0  FEMININO   BRANCA  JABOATÃO DOS GUARARAPES   \n",
              "1  40 a 44 anos  41.0  FEMININO   BRANCA  JABOATÃO DOS GUARARAPES   \n",
              "2  10 a 14 anos  14.0  FEMININO    PARDA     SÃO LOURENÇO DA MATA   \n",
              "\n",
              "                                  grupo categoria        lote  \\\n",
              "0       PÚBLICO EM GERAL (18 a 59 anos)    OUTROS  214VCD085W   \n",
              "1       PÚBLICO EM GERAL (18 a 59 anos)    OUTROS  219VCD273Z   \n",
              "2   PÚBLICO EM GERAL - MENOR DE 18 ANOS    OUTROS      FJ2594   \n",
              "\n",
              "                                   vacina_fabricante  descricao_dose  \\\n",
              "0  2 - CHADOX1NCOV-19 - OXFORD/ASTRAZENECA (FIOCRUZ)             1.0   \n",
              "1  2 - CHADOX1NCOV-19 - OXFORD/ASTRAZENECA (FIOCRUZ)             2.0   \n",
              "2                             3 - COMIRNATY (PFIZER)             1.0   \n",
              "\n",
              "                                                cnes  sistema_origem  \\\n",
              "0  DS 1: CNES: 000507 - POLICLÍNICA GOUVEIA DE BA...  Conecta Recife   \n",
              "1    DS 5: CNES: 000701 - MATERNIDADE BANDEIRA FILHO  Conecta Recife   \n",
              "2    DS 5: CNES: 000701 - MATERNIDADE BANDEIRA FILHO             NÃO   \n",
              "\n",
              "          data_vacinacao  \n",
              "0  2021-07-16 00:00:00.0  \n",
              "1  2021-10-14 00:00:00.0  \n",
              "2  2021-11-18 00:00:00.0  "
            ],
            "text/html": [
              "\n",
              "  <div id=\"df-024de3d5-300f-4760-846f-093e2a89f9ae\" class=\"colab-df-container\">\n",
              "    <div>\n",
              "<style scoped>\n",
              "    .dataframe tbody tr th:only-of-type {\n",
              "        vertical-align: middle;\n",
              "    }\n",
              "\n",
              "    .dataframe tbody tr th {\n",
              "        vertical-align: top;\n",
              "    }\n",
              "\n",
              "    .dataframe thead th {\n",
              "        text-align: right;\n",
              "    }\n",
              "</style>\n",
              "<table border=\"1\" class=\"dataframe\">\n",
              "  <thead>\n",
              "    <tr style=\"text-align: right;\">\n",
              "      <th></th>\n",
              "      <th>faixa_etaria</th>\n",
              "      <th>idade</th>\n",
              "      <th>sexo</th>\n",
              "      <th>raca_cor</th>\n",
              "      <th>municipio</th>\n",
              "      <th>grupo</th>\n",
              "      <th>categoria</th>\n",
              "      <th>lote</th>\n",
              "      <th>vacina_fabricante</th>\n",
              "      <th>descricao_dose</th>\n",
              "      <th>cnes</th>\n",
              "      <th>sistema_origem</th>\n",
              "      <th>data_vacinacao</th>\n",
              "    </tr>\n",
              "  </thead>\n",
              "  <tbody>\n",
              "    <tr>\n",
              "      <th>0</th>\n",
              "      <td>40 a 44 anos</td>\n",
              "      <td>40.0</td>\n",
              "      <td>FEMININO</td>\n",
              "      <td>BRANCA</td>\n",
              "      <td>JABOATÃO DOS GUARARAPES</td>\n",
              "      <td>PÚBLICO EM GERAL (18 a 59 anos)</td>\n",
              "      <td>OUTROS</td>\n",
              "      <td>214VCD085W</td>\n",
              "      <td>2 - CHADOX1NCOV-19 - OXFORD/ASTRAZENECA (FIOCRUZ)</td>\n",
              "      <td>1.0</td>\n",
              "      <td>DS 1: CNES: 000507 - POLICLÍNICA GOUVEIA DE BA...</td>\n",
              "      <td>Conecta Recife</td>\n",
              "      <td>2021-07-16 00:00:00.0</td>\n",
              "    </tr>\n",
              "    <tr>\n",
              "      <th>1</th>\n",
              "      <td>40 a 44 anos</td>\n",
              "      <td>41.0</td>\n",
              "      <td>FEMININO</td>\n",
              "      <td>BRANCA</td>\n",
              "      <td>JABOATÃO DOS GUARARAPES</td>\n",
              "      <td>PÚBLICO EM GERAL (18 a 59 anos)</td>\n",
              "      <td>OUTROS</td>\n",
              "      <td>219VCD273Z</td>\n",
              "      <td>2 - CHADOX1NCOV-19 - OXFORD/ASTRAZENECA (FIOCRUZ)</td>\n",
              "      <td>2.0</td>\n",
              "      <td>DS 5: CNES: 000701 - MATERNIDADE BANDEIRA FILHO</td>\n",
              "      <td>Conecta Recife</td>\n",
              "      <td>2021-10-14 00:00:00.0</td>\n",
              "    </tr>\n",
              "    <tr>\n",
              "      <th>2</th>\n",
              "      <td>10 a 14 anos</td>\n",
              "      <td>14.0</td>\n",
              "      <td>FEMININO</td>\n",
              "      <td>PARDA</td>\n",
              "      <td>SÃO LOURENÇO DA MATA</td>\n",
              "      <td>PÚBLICO EM GERAL - MENOR DE 18 ANOS</td>\n",
              "      <td>OUTROS</td>\n",
              "      <td>FJ2594</td>\n",
              "      <td>3 - COMIRNATY (PFIZER)</td>\n",
              "      <td>1.0</td>\n",
              "      <td>DS 5: CNES: 000701 - MATERNIDADE BANDEIRA FILHO</td>\n",
              "      <td>NÃO</td>\n",
              "      <td>2021-11-18 00:00:00.0</td>\n",
              "    </tr>\n",
              "  </tbody>\n",
              "</table>\n",
              "</div>\n",
              "    <div class=\"colab-df-buttons\">\n",
              "\n",
              "  <div class=\"colab-df-container\">\n",
              "    <button class=\"colab-df-convert\" onclick=\"convertToInteractive('df-024de3d5-300f-4760-846f-093e2a89f9ae')\"\n",
              "            title=\"Convert this dataframe to an interactive table.\"\n",
              "            style=\"display:none;\">\n",
              "\n",
              "  <svg xmlns=\"http://www.w3.org/2000/svg\" height=\"24px\" viewBox=\"0 -960 960 960\">\n",
              "    <path d=\"M120-120v-720h720v720H120Zm60-500h600v-160H180v160Zm220 220h160v-160H400v160Zm0 220h160v-160H400v160ZM180-400h160v-160H180v160Zm440 0h160v-160H620v160ZM180-180h160v-160H180v160Zm440 0h160v-160H620v160Z\"/>\n",
              "  </svg>\n",
              "    </button>\n",
              "\n",
              "  <style>\n",
              "    .colab-df-container {\n",
              "      display:flex;\n",
              "      gap: 12px;\n",
              "    }\n",
              "\n",
              "    .colab-df-convert {\n",
              "      background-color: #E8F0FE;\n",
              "      border: none;\n",
              "      border-radius: 50%;\n",
              "      cursor: pointer;\n",
              "      display: none;\n",
              "      fill: #1967D2;\n",
              "      height: 32px;\n",
              "      padding: 0 0 0 0;\n",
              "      width: 32px;\n",
              "    }\n",
              "\n",
              "    .colab-df-convert:hover {\n",
              "      background-color: #E2EBFA;\n",
              "      box-shadow: 0px 1px 2px rgba(60, 64, 67, 0.3), 0px 1px 3px 1px rgba(60, 64, 67, 0.15);\n",
              "      fill: #174EA6;\n",
              "    }\n",
              "\n",
              "    .colab-df-buttons div {\n",
              "      margin-bottom: 4px;\n",
              "    }\n",
              "\n",
              "    [theme=dark] .colab-df-convert {\n",
              "      background-color: #3B4455;\n",
              "      fill: #D2E3FC;\n",
              "    }\n",
              "\n",
              "    [theme=dark] .colab-df-convert:hover {\n",
              "      background-color: #434B5C;\n",
              "      box-shadow: 0px 1px 3px 1px rgba(0, 0, 0, 0.15);\n",
              "      filter: drop-shadow(0px 1px 2px rgba(0, 0, 0, 0.3));\n",
              "      fill: #FFFFFF;\n",
              "    }\n",
              "  </style>\n",
              "\n",
              "    <script>\n",
              "      const buttonEl =\n",
              "        document.querySelector('#df-024de3d5-300f-4760-846f-093e2a89f9ae button.colab-df-convert');\n",
              "      buttonEl.style.display =\n",
              "        google.colab.kernel.accessAllowed ? 'block' : 'none';\n",
              "\n",
              "      async function convertToInteractive(key) {\n",
              "        const element = document.querySelector('#df-024de3d5-300f-4760-846f-093e2a89f9ae');\n",
              "        const dataTable =\n",
              "          await google.colab.kernel.invokeFunction('convertToInteractive',\n",
              "                                                    [key], {});\n",
              "        if (!dataTable) return;\n",
              "\n",
              "        const docLinkHtml = 'Like what you see? Visit the ' +\n",
              "          '<a target=\"_blank\" href=https://colab.research.google.com/notebooks/data_table.ipynb>data table notebook</a>'\n",
              "          + ' to learn more about interactive tables.';\n",
              "        element.innerHTML = '';\n",
              "        dataTable['output_type'] = 'display_data';\n",
              "        await google.colab.output.renderOutput(dataTable, element);\n",
              "        const docLink = document.createElement('div');\n",
              "        docLink.innerHTML = docLinkHtml;\n",
              "        element.appendChild(docLink);\n",
              "      }\n",
              "    </script>\n",
              "  </div>\n",
              "\n",
              "\n",
              "<div id=\"df-be28eb67-aa07-46bb-ad3a-8ad5f4dfd93c\">\n",
              "  <button class=\"colab-df-quickchart\" onclick=\"quickchart('df-be28eb67-aa07-46bb-ad3a-8ad5f4dfd93c')\"\n",
              "            title=\"Suggest charts\"\n",
              "            style=\"display:none;\">\n",
              "\n",
              "<svg xmlns=\"http://www.w3.org/2000/svg\" height=\"24px\"viewBox=\"0 0 24 24\"\n",
              "     width=\"24px\">\n",
              "    <g>\n",
              "        <path d=\"M19 3H5c-1.1 0-2 .9-2 2v14c0 1.1.9 2 2 2h14c1.1 0 2-.9 2-2V5c0-1.1-.9-2-2-2zM9 17H7v-7h2v7zm4 0h-2V7h2v10zm4 0h-2v-4h2v4z\"/>\n",
              "    </g>\n",
              "</svg>\n",
              "  </button>\n",
              "\n",
              "<style>\n",
              "  .colab-df-quickchart {\n",
              "      --bg-color: #E8F0FE;\n",
              "      --fill-color: #1967D2;\n",
              "      --hover-bg-color: #E2EBFA;\n",
              "      --hover-fill-color: #174EA6;\n",
              "      --disabled-fill-color: #AAA;\n",
              "      --disabled-bg-color: #DDD;\n",
              "  }\n",
              "\n",
              "  [theme=dark] .colab-df-quickchart {\n",
              "      --bg-color: #3B4455;\n",
              "      --fill-color: #D2E3FC;\n",
              "      --hover-bg-color: #434B5C;\n",
              "      --hover-fill-color: #FFFFFF;\n",
              "      --disabled-bg-color: #3B4455;\n",
              "      --disabled-fill-color: #666;\n",
              "  }\n",
              "\n",
              "  .colab-df-quickchart {\n",
              "    background-color: var(--bg-color);\n",
              "    border: none;\n",
              "    border-radius: 50%;\n",
              "    cursor: pointer;\n",
              "    display: none;\n",
              "    fill: var(--fill-color);\n",
              "    height: 32px;\n",
              "    padding: 0;\n",
              "    width: 32px;\n",
              "  }\n",
              "\n",
              "  .colab-df-quickchart:hover {\n",
              "    background-color: var(--hover-bg-color);\n",
              "    box-shadow: 0 1px 2px rgba(60, 64, 67, 0.3), 0 1px 3px 1px rgba(60, 64, 67, 0.15);\n",
              "    fill: var(--button-hover-fill-color);\n",
              "  }\n",
              "\n",
              "  .colab-df-quickchart-complete:disabled,\n",
              "  .colab-df-quickchart-complete:disabled:hover {\n",
              "    background-color: var(--disabled-bg-color);\n",
              "    fill: var(--disabled-fill-color);\n",
              "    box-shadow: none;\n",
              "  }\n",
              "\n",
              "  .colab-df-spinner {\n",
              "    border: 2px solid var(--fill-color);\n",
              "    border-color: transparent;\n",
              "    border-bottom-color: var(--fill-color);\n",
              "    animation:\n",
              "      spin 1s steps(1) infinite;\n",
              "  }\n",
              "\n",
              "  @keyframes spin {\n",
              "    0% {\n",
              "      border-color: transparent;\n",
              "      border-bottom-color: var(--fill-color);\n",
              "      border-left-color: var(--fill-color);\n",
              "    }\n",
              "    20% {\n",
              "      border-color: transparent;\n",
              "      border-left-color: var(--fill-color);\n",
              "      border-top-color: var(--fill-color);\n",
              "    }\n",
              "    30% {\n",
              "      border-color: transparent;\n",
              "      border-left-color: var(--fill-color);\n",
              "      border-top-color: var(--fill-color);\n",
              "      border-right-color: var(--fill-color);\n",
              "    }\n",
              "    40% {\n",
              "      border-color: transparent;\n",
              "      border-right-color: var(--fill-color);\n",
              "      border-top-color: var(--fill-color);\n",
              "    }\n",
              "    60% {\n",
              "      border-color: transparent;\n",
              "      border-right-color: var(--fill-color);\n",
              "    }\n",
              "    80% {\n",
              "      border-color: transparent;\n",
              "      border-right-color: var(--fill-color);\n",
              "      border-bottom-color: var(--fill-color);\n",
              "    }\n",
              "    90% {\n",
              "      border-color: transparent;\n",
              "      border-bottom-color: var(--fill-color);\n",
              "    }\n",
              "  }\n",
              "</style>\n",
              "\n",
              "  <script>\n",
              "    async function quickchart(key) {\n",
              "      const quickchartButtonEl =\n",
              "        document.querySelector('#' + key + ' button');\n",
              "      quickchartButtonEl.disabled = true;  // To prevent multiple clicks.\n",
              "      quickchartButtonEl.classList.add('colab-df-spinner');\n",
              "      try {\n",
              "        const charts = await google.colab.kernel.invokeFunction(\n",
              "            'suggestCharts', [key], {});\n",
              "      } catch (error) {\n",
              "        console.error('Error during call to suggestCharts:', error);\n",
              "      }\n",
              "      quickchartButtonEl.classList.remove('colab-df-spinner');\n",
              "      quickchartButtonEl.classList.add('colab-df-quickchart-complete');\n",
              "    }\n",
              "    (() => {\n",
              "      let quickchartButtonEl =\n",
              "        document.querySelector('#df-be28eb67-aa07-46bb-ad3a-8ad5f4dfd93c button');\n",
              "      quickchartButtonEl.style.display =\n",
              "        google.colab.kernel.accessAllowed ? 'block' : 'none';\n",
              "    })();\n",
              "  </script>\n",
              "</div>\n",
              "    </div>\n",
              "  </div>\n"
            ]
          },
          "metadata": {},
          "execution_count": 2
        }
      ]
    },
    {
      "cell_type": "code",
      "source": [
        "df_rec.columns"
      ],
      "metadata": {
        "colab": {
          "base_uri": "https://localhost:8080/"
        },
        "id": "7o3_4jxKZdPM",
        "outputId": "ae8ec6db-9a46-438e-cca3-af4ffcf92fe9"
      },
      "execution_count": 3,
      "outputs": [
        {
          "output_type": "execute_result",
          "data": {
            "text/plain": [
              "Index(['faixa_etaria', 'idade', 'sexo', 'raca_cor', 'municipio', 'grupo',\n",
              "       'categoria', 'lote', 'vacina_fabricante', 'descricao_dose', 'cnes',\n",
              "       'sistema_origem', 'data_vacinacao'],\n",
              "      dtype='object')"
            ]
          },
          "metadata": {},
          "execution_count": 3
        }
      ]
    },
    {
      "cell_type": "markdown",
      "source": [
        "1 - Calcule e exiba o número total de pessoas vacinadas."
      ],
      "metadata": {
        "id": "CXjeyvtAZ3X4"
      }
    },
    {
      "cell_type": "code",
      "source": [
        "# Convertendo a coluna 'data_vacinacao' para o tipo datetime\n",
        "df_rec['data_vacinacao'] = pd.to_datetime(df_rec['data_vacinacao'])\n",
        "\n",
        "# Calculando o número total de pessoas vacinadas\n",
        "total_pessoas_vacinadas = df_rec.shape[0]\n",
        "\n",
        "# Exibindo o resultado\n",
        "print(f'O número total de pessoas vacinadas é {total_pessoas_vacinadas}')"
      ],
      "metadata": {
        "colab": {
          "base_uri": "https://localhost:8080/"
        },
        "id": "FIdKZFvSZ4hh",
        "outputId": "33033a86-f932-42be-d671-defe26868c18"
      },
      "execution_count": 4,
      "outputs": [
        {
          "output_type": "stream",
          "name": "stdout",
          "text": [
            "O número total de pessoas vacinadas é 3041498\n"
          ]
        }
      ]
    },
    {
      "cell_type": "markdown",
      "source": [
        "2 - Qual foi a cidade que tomou mais dose da vacina CORONAVAC (SINOVAC - BUTANTAN)?"
      ],
      "metadata": {
        "id": "CskGzAYVaSuJ"
      }
    },
    {
      "cell_type": "code",
      "source": [
        "# Convertendo a coluna 'data_vacinacao' para o tipo datetime\n",
        "df_rec['data_vacinacao'] = pd.to_datetime(df_rec['data_vacinacao'])\n",
        "\n",
        "# Filtrando os dados para incluir apenas doses da CORONAVAC (SINOVAC - BUTANTAN)\n",
        "coronavac_data = df_rec[df_rec['vacina_fabricante'] == '1 - CORONAVAC - SINOVAC (BUTANTAN)']\n",
        "\n",
        "# Agrupando por cidade e contando o número de doses administradas em cada cidade\n",
        "cidade_mais_doses_coronavac = coronavac_data['municipio'].value_counts().idxmax()\n",
        "\n",
        "# Exibindo o resultado\n",
        "print(f'A cidade que tomou mais doses da vacina CORONAVAC (SINOVAC - BUTANTAN) foi {cidade_mais_doses_coronavac}')"
      ],
      "metadata": {
        "colab": {
          "base_uri": "https://localhost:8080/"
        },
        "id": "R2dWzQWIaUGw",
        "outputId": "86e1bc1c-517b-4a16-e6f4-1de9ccbcdc38"
      },
      "execution_count": 5,
      "outputs": [
        {
          "output_type": "stream",
          "name": "stdout",
          "text": [
            "A cidade que tomou mais doses da vacina CORONAVAC (SINOVAC - BUTANTAN) foi RECIFE\n"
          ]
        }
      ]
    },
    {
      "cell_type": "markdown",
      "source": [
        "3 - Crie uma nova coluna chamada \"tipo_faixa_etaria\", onde deverá conter os seguintes valores:\n",
        "\n",
        "- Crianças: 3 a 12 anos\n",
        "\n",
        "- Adolescentes: 13 a 19 anos\n",
        "\n",
        "- Jovens adultos: 20 a 39 anos\n",
        "\n",
        "- Adultos de meia-idade: 40 a 59 anos\n",
        "\n",
        "- Idosos: 60 anos ou mais"
      ],
      "metadata": {
        "id": "ruoU9Yv_a0yS"
      }
    },
    {
      "cell_type": "code",
      "source": [
        "# Convertendo a coluna 'idade' para o tipo numérico\n",
        "df_rec['idade'] = pd.to_numeric(df_rec['idade'], errors='coerce')\n",
        "\n",
        "# Convertendo a coluna 'faixa_etaria' para o tipo string\n",
        "df_rec['faixa_etaria'] = df_rec['faixa_etaria'].astype(str)\n",
        "\n",
        "# Função para mapear faixas etárias para tipos\n",
        "def mapear_tipo_faixa_etaria(idade):\n",
        "    if 3 <= idade <= 12:\n",
        "        return 'Crianças'\n",
        "    elif 13 <= idade <= 19:\n",
        "        return 'Adolescentes'\n",
        "    elif 20 <= idade <= 39:\n",
        "        return 'Jovens adultos'\n",
        "    elif 40 <= idade <= 59:\n",
        "        return 'Adultos de meia-idade'\n",
        "    else:\n",
        "        return 'Idosos'\n",
        "\n",
        "# Aplicando a função para criar a nova coluna 'tipo_faixa_etaria'\n",
        "df_rec['tipo_faixa_etaria'] = df_rec['idade'].apply(mapear_tipo_faixa_etaria)\n",
        "\n",
        "# Exibindo o DataFrame resultante\n",
        "print(df_rec[['faixa_etaria', 'idade', 'tipo_faixa_etaria']])"
      ],
      "metadata": {
        "colab": {
          "base_uri": "https://localhost:8080/"
        },
        "id": "pJGSnBGDa2PZ",
        "outputId": "ba1c4de5-0910-4cd8-9695-ae4b3ad0eae3"
      },
      "execution_count": 6,
      "outputs": [
        {
          "output_type": "stream",
          "name": "stdout",
          "text": [
            "         faixa_etaria  idade      tipo_faixa_etaria\n",
            "0        40 a 44 anos   40.0  Adultos de meia-idade\n",
            "1        40 a 44 anos   41.0  Adultos de meia-idade\n",
            "2        10 a 14 anos   14.0           Adolescentes\n",
            "3        40 a 44 anos   43.0  Adultos de meia-idade\n",
            "4        40 a 44 anos   44.0  Adultos de meia-idade\n",
            "...               ...    ...                    ...\n",
            "3041493  20 a 24 anos   23.0         Jovens adultos\n",
            "3041494  35 a 39 anos   35.0         Jovens adultos\n",
            "3041495  75 a 79 anos   76.0                 Idosos\n",
            "3041496  75 a 79 anos   76.0                 Idosos\n",
            "3041497  10 a 14 anos   14.0           Adolescentes\n",
            "\n",
            "[3041498 rows x 3 columns]\n"
          ]
        }
      ]
    },
    {
      "cell_type": "markdown",
      "source": [
        "4 - Crie uma nova coluna chamada \"regiao\", onde deverá conter valores:\n",
        "\n",
        "- Metropolitana: Recife, Olinda, Jaboatão dos Guararapes, Paulista, Camaragibe, São Lourenço da Mata, Abreu e Lima, Igarassu, Cabo de Santo Agostinho\n",
        "\n",
        "- Interior: Cidades que não estão inclusas em Metropolitana"
      ],
      "metadata": {
        "id": "OGLjCVoMbREZ"
      }
    },
    {
      "cell_type": "code",
      "source": [
        "# Função para mapear cidades para regiões\n",
        "def mapear_regiao(cidade):\n",
        "    cidades_metropolitanas = ['RECIFE', 'OLINDA', 'JABOATÃO DOS GUARARAPES', 'PAULISTA', 'CAMARAGIBE', 'SÃO LOURENÇO DA MATA', 'ABREU E LIMA', 'IGARASSU', 'CABO DE SANTO AGOSTINHO']\n",
        "    return 'Metropolitana' if cidade in cidades_metropolitanas else 'Interior'\n",
        "\n",
        "# Aplicando a função para criar a nova coluna 'regiao'\n",
        "df_rec['regiao'] = df_rec['municipio'].apply(mapear_regiao)\n",
        "\n",
        "# Exibindo o DataFrame resultante\n",
        "print(df_rec[['municipio', 'regiao']])"
      ],
      "metadata": {
        "colab": {
          "base_uri": "https://localhost:8080/"
        },
        "id": "G1Ha_kiUbSDs",
        "outputId": "731aca37-5654-435d-b53e-e11534b660f8"
      },
      "execution_count": 7,
      "outputs": [
        {
          "output_type": "stream",
          "name": "stdout",
          "text": [
            "                       municipio         regiao\n",
            "0        JABOATÃO DOS GUARARAPES  Metropolitana\n",
            "1        JABOATÃO DOS GUARARAPES  Metropolitana\n",
            "2           SÃO LOURENÇO DA MATA  Metropolitana\n",
            "3                         RECIFE  Metropolitana\n",
            "4                         RECIFE  Metropolitana\n",
            "...                          ...            ...\n",
            "3041493                   RECIFE  Metropolitana\n",
            "3041494                   RECIFE  Metropolitana\n",
            "3041495                   RECIFE  Metropolitana\n",
            "3041496                   RECIFE  Metropolitana\n",
            "3041497                   RECIFE  Metropolitana\n",
            "\n",
            "[3041498 rows x 2 columns]\n"
          ]
        }
      ]
    },
    {
      "cell_type": "markdown",
      "source": [
        "5 - Conte quantas pessoas receberam a vacina para cada \"regiao\" e cada \"tipo_faixa_etaria\""
      ],
      "metadata": {
        "id": "gNAPKj7JbnUq"
      }
    },
    {
      "cell_type": "code",
      "source": [
        "# Convertendo a coluna 'idade' para o tipo numérico\n",
        "df_rec['idade'] = pd.to_numeric(df_rec['idade'], errors='coerce')\n",
        "\n",
        "# Convertendo a coluna 'faixa_etaria' para o tipo string\n",
        "df_rec['faixa_etaria'] = df_rec['faixa_etaria'].astype(str)\n",
        "\n",
        "# Função para mapear cidades para regiões\n",
        "def mapear_regiao(cidade):\n",
        "    cidades_metropolitanas = ['RECIFE', 'OLINDA', 'JABOATÃO DOS GUARARAPES', 'PAULISTA', 'CAMARAGIBE', 'SÃO LOURENÇO DA MATA', 'ABREU E LIMA', 'IGARASSU', 'CABO DE SANTO AGOSTINHO']\n",
        "    return 'Metropolitana' if cidade in cidades_metropolitanas else 'Interior'\n",
        "\n",
        "# Função para mapear faixas etárias para tipos\n",
        "def mapear_tipo_faixa_etaria(idade):\n",
        "    if 3 <= idade <= 12:\n",
        "        return 'Crianças'\n",
        "    elif 13 <= idade <= 19:\n",
        "        return 'Adolescentes'\n",
        "    elif 20 <= idade <= 39:\n",
        "        return 'Jovens adultos'\n",
        "    elif 40 <= idade <= 59:\n",
        "        return 'Adultos de meia-idade'\n",
        "    else:\n",
        "        return 'Idosos'\n",
        "\n",
        "# Aplicando as funções para criar as novas colunas 'regiao' e 'tipo_faixa_etaria'\n",
        "df_rec['regiao'] = df_rec['municipio'].apply(mapear_regiao)\n",
        "df_rec['tipo_faixa_etaria'] = df_rec['idade'].apply(mapear_tipo_faixa_etaria)\n",
        "\n",
        "# Contando o número de pessoas para cada região e cada tipo de faixa etária\n",
        "contagem_por_regiao_tipo_faixa_etaria = df_rec.groupby(['regiao', 'tipo_faixa_etaria']).size().reset_index(name='contagem')\n",
        "\n",
        "# Exibindo o resultado\n",
        "print(contagem_por_regiao_tipo_faixa_etaria)"
      ],
      "metadata": {
        "colab": {
          "base_uri": "https://localhost:8080/"
        },
        "id": "XaHIArA3bojs",
        "outputId": "b700825f-0216-44c3-a644-329a50be4cf6"
      },
      "execution_count": 8,
      "outputs": [
        {
          "output_type": "stream",
          "name": "stdout",
          "text": [
            "          regiao      tipo_faixa_etaria  contagem\n",
            "0       Interior           Adolescentes       860\n",
            "1       Interior  Adultos de meia-idade      3514\n",
            "2       Interior               Crianças       123\n",
            "3       Interior                 Idosos      1013\n",
            "4       Interior         Jovens adultos      5409\n",
            "5  Metropolitana           Adolescentes    245793\n",
            "6  Metropolitana  Adultos de meia-idade    974779\n",
            "7  Metropolitana               Crianças     30834\n",
            "8  Metropolitana                 Idosos    784857\n",
            "9  Metropolitana         Jovens adultos    994316\n"
          ]
        }
      ]
    },
    {
      "cell_type": "markdown",
      "source": [
        "6 - Determine a idade média das pessoas vacinadas para cada \"regiao\" e cada \"tipo_faixa_etaria\""
      ],
      "metadata": {
        "id": "81xwhvvjb_7i"
      }
    },
    {
      "cell_type": "code",
      "source": [
        "# Convertendo a coluna 'idade' para o tipo numérico\n",
        "df_rec['idade'] = pd.to_numeric(df_rec['idade'], errors='coerce')\n",
        "\n",
        "# Convertendo a coluna 'faixa_etaria' para o tipo string\n",
        "df_rec['faixa_etaria'] = df_rec['faixa_etaria'].astype(str)\n",
        "\n",
        "# Função para mapear cidades para regiões\n",
        "def mapear_regiao(cidade):\n",
        "    cidades_metropolitanas = ['RECIFE', 'OLINDA', 'JABOATÃO DOS GUARARAPES', 'PAULISTA', 'CAMARAGIBE', 'SÃO LOURENÇO DA MATA', 'ABREU E LIMA', 'IGARASSU', 'CABO DE SANTO AGOSTINHO']\n",
        "    return 'Metropolitana' if cidade in cidades_metropolitanas else 'Interior'\n",
        "\n",
        "# Função para mapear faixas etárias para tipos\n",
        "def mapear_tipo_faixa_etaria(idade):\n",
        "    if 3 <= idade <= 12:\n",
        "        return 'Crianças'\n",
        "    elif 13 <= idade <= 19:\n",
        "        return 'Adolescentes'\n",
        "    elif 20 <= idade <= 39:\n",
        "        return 'Jovens adultos'\n",
        "    elif 40 <= idade <= 59:\n",
        "        return 'Adultos de meia-idade'\n",
        "    else:\n",
        "        return 'Idosos'\n",
        "\n",
        "# Aplicando as funções para criar as novas colunas 'regiao' e 'tipo_faixa_etaria'\n",
        "df_rec['regiao'] = df_rec['municipio'].apply(mapear_regiao)\n",
        "df_rec['tipo_faixa_etaria'] = df_rec['idade'].apply(mapear_tipo_faixa_etaria)\n",
        "\n",
        "# Calculando a idade média para cada região e cada tipo de faixa etária\n",
        "idade_media_por_regiao_tipo_faixa_etaria = df_rec.groupby(['regiao', 'tipo_faixa_etaria'])['idade'].mean().reset_index(name='idade_media')\n",
        "\n",
        "# Exibindo o resultado\n",
        "print(idade_media_por_regiao_tipo_faixa_etaria)"
      ],
      "metadata": {
        "colab": {
          "base_uri": "https://localhost:8080/"
        },
        "id": "q9xrTenKcBXG",
        "outputId": "47eacb6a-4385-4d5c-8d07-3297055badbd"
      },
      "execution_count": 9,
      "outputs": [
        {
          "output_type": "stream",
          "name": "stdout",
          "text": [
            "          regiao      tipo_faixa_etaria  idade_media\n",
            "0       Interior           Adolescentes    16.290698\n",
            "1       Interior  Adultos de meia-idade    47.511383\n",
            "2       Interior               Crianças    11.991870\n",
            "3       Interior                 Idosos    69.548165\n",
            "4       Interior         Jovens adultos    29.496950\n",
            "5  Metropolitana           Adolescentes    16.144817\n",
            "6  Metropolitana  Adultos de meia-idade    49.155744\n",
            "7  Metropolitana               Crianças    11.997568\n",
            "8  Metropolitana                 Idosos    70.519148\n",
            "9  Metropolitana         Jovens adultos    29.877152\n"
          ]
        }
      ]
    },
    {
      "cell_type": "markdown",
      "source": [
        "7 -  Identifique e exiba o tipo de vacina mais administrado para cada  \"regiao\" e cada \"tipo_faixa_etaria\""
      ],
      "metadata": {
        "id": "TYbj5ormcXr5"
      }
    },
    {
      "cell_type": "code",
      "source": [
        "# Convertendo a coluna 'idade' para o tipo numérico\n",
        "df_rec['idade'] = pd.to_numeric(df_rec['idade'], errors='coerce')\n",
        "\n",
        "# Convertendo a coluna 'faixa_etaria' para o tipo string\n",
        "df_rec['faixa_etaria'] = df_rec['faixa_etaria'].astype(str)\n",
        "\n",
        "# Função para mapear cidades para regiões\n",
        "def mapear_regiao(cidade):\n",
        "    cidades_metropolitanas = ['RECIFE', 'OLINDA', 'JABOATÃO DOS GUARARAPES', 'PAULISTA', 'CAMARAGIBE', 'SÃO LOURENÇO DA MATA', 'ABREU E LIMA', 'IGARASSU', 'CABO DE SANTO AGOSTINHO']\n",
        "    return 'Metropolitana' if cidade in cidades_metropolitanas else 'Interior'\n",
        "\n",
        "# Função para mapear faixas etárias para tipos\n",
        "def mapear_tipo_faixa_etaria(idade):\n",
        "    if 3 <= idade <= 12:\n",
        "        return 'Crianças'\n",
        "    elif 13 <= idade <= 19:\n",
        "        return 'Adolescentes'\n",
        "    elif 20 <= idade <= 39:\n",
        "        return 'Jovens adultos'\n",
        "    elif 40 <= idade <= 59:\n",
        "        return 'Adultos de meia-idade'\n",
        "    else:\n",
        "        return 'Idosos'\n",
        "\n",
        "# Aplicando as funções para criar as novas colunas 'regiao' e 'tipo_faixa_etaria'\n",
        "df_rec['regiao'] = df_rec['municipio'].apply(mapear_regiao)\n",
        "df_rec['tipo_faixa_etaria'] = df_rec['idade'].apply(mapear_tipo_faixa_etaria)\n",
        "\n",
        "# Encontrando o tipo de vacina mais administrado para cada região e cada tipo de faixa etária\n",
        "tipo_vacina_mais_administrada = df_rec.groupby(['regiao', 'tipo_faixa_etaria', 'vacina_fabricante'])['descricao_dose'].count().reset_index()\n",
        "idx = tipo_vacina_mais_administrada.groupby(['regiao', 'tipo_faixa_etaria'])['descricao_dose'].idxmax()\n",
        "resultado = tipo_vacina_mais_administrada.loc[idx]\n",
        "\n",
        "# Exibindo o resultado\n",
        "print(resultado[['regiao', 'tipo_faixa_etaria', 'vacina_fabricante', 'descricao_dose']])"
      ],
      "metadata": {
        "colab": {
          "base_uri": "https://localhost:8080/"
        },
        "id": "UvTQHYp8cY5Y",
        "outputId": "6469230c-18e0-4bb7-b10a-e909d488812b"
      },
      "execution_count": 10,
      "outputs": [
        {
          "output_type": "stream",
          "name": "stdout",
          "text": [
            "           regiao      tipo_faixa_etaria  \\\n",
            "2        Interior           Adolescentes   \n",
            "5        Interior  Adultos de meia-idade   \n",
            "8        Interior               Crianças   \n",
            "11       Interior                 Idosos   \n",
            "15       Interior         Jovens adultos   \n",
            "19  Metropolitana           Adolescentes   \n",
            "22  Metropolitana  Adultos de meia-idade   \n",
            "27  Metropolitana               Crianças   \n",
            "28  Metropolitana                 Idosos   \n",
            "34  Metropolitana         Jovens adultos   \n",
            "\n",
            "                                    vacina_fabricante  descricao_dose  \n",
            "2                              3 - COMIRNATY (PFIZER)             790  \n",
            "5   2 - CHADOX1NCOV-19 - OXFORD/ASTRAZENECA (FIOCRUZ)            1623  \n",
            "8                              3 - COMIRNATY (PFIZER)             123  \n",
            "11                             3 - COMIRNATY (PFIZER)             341  \n",
            "15                             3 - COMIRNATY (PFIZER)            2164  \n",
            "19                             3 - COMIRNATY (PFIZER)          211987  \n",
            "22  2 - CHADOX1NCOV-19 - OXFORD/ASTRAZENECA (FIOCRUZ)          527505  \n",
            "27                             3 - COMIRNATY (PFIZER)           30825  \n",
            "28                 1 - CORONAVAC - SINOVAC (BUTANTAN)          314453  \n",
            "34                             3 - COMIRNATY (PFIZER)          430779  \n"
          ]
        }
      ]
    },
    {
      "cell_type": "markdown",
      "source": [
        "8. Qual é a proporção de homens e mulheres vacinados para \"regiao\" e cada \"tipo_faixa_etaria\"?"
      ],
      "metadata": {
        "id": "qv2Ks1Rwc10q"
      }
    },
    {
      "cell_type": "code",
      "source": [
        "# Convertendo a coluna 'idade' para o tipo numérico\n",
        "df_rec['idade'] = pd.to_numeric(df_rec['idade'], errors='coerce')\n",
        "\n",
        "# Convertendo a coluna 'faixa_etaria' para o tipo string\n",
        "df_rec['faixa_etaria'] = df_rec['faixa_etaria'].astype(str)\n",
        "\n",
        "# Função para mapear cidades para regiões\n",
        "def mapear_regiao(cidade):\n",
        "    cidades_metropolitanas = ['RECIFE', 'OLINDA', 'JABOATÃO DOS GUARARAPES', 'PAULISTA', 'CAMARAGIBE', 'SÃO LOURENÇO DA MATA', 'ABREU E LIMA', 'IGARASSU', 'CABO DE SANTO AGOSTINHO']\n",
        "    return 'Metropolitana' if cidade in cidades_metropolitanas else 'Interior'\n",
        "\n",
        "# Função para mapear faixas etárias para tipos\n",
        "def mapear_tipo_faixa_etaria(idade):\n",
        "    if 3 <= idade <= 12:\n",
        "        return 'Crianças'\n",
        "    elif 13 <= idade <= 19:\n",
        "        return 'Adolescentes'\n",
        "    elif 20 <= idade <= 39:\n",
        "        return 'Jovens adultos'\n",
        "    elif 40 <= idade <= 59:\n",
        "        return 'Adultos de meia-idade'\n",
        "    else:\n",
        "        return 'Idosos'\n",
        "\n",
        "# Aplicando as funções para criar as novas colunas 'regiao' e 'tipo_faixa_etaria'\n",
        "df_rec['regiao'] = df_rec['municipio'].apply(mapear_regiao)\n",
        "df_rec['tipo_faixa_etaria'] = df_rec['idade'].apply(mapear_tipo_faixa_etaria)\n",
        "\n",
        "# Calculando a proporção de homens e mulheres para cada região e cada tipo de faixa etária\n",
        "proporcao_sexo_por_regiao_tipo_faixa_etaria = df_rec.groupby(['regiao', 'tipo_faixa_etaria', 'sexo']).size().unstack(fill_value=0)\n",
        "proporcao_sexo_por_regiao_tipo_faixa_etaria['Proporcao_Mulheres'] = proporcao_sexo_por_regiao_tipo_faixa_etaria['FEMININO'] / (proporcao_sexo_por_regiao_tipo_faixa_etaria['FEMININO'] + proporcao_sexo_por_regiao_tipo_faixa_etaria['MASCULINO'])\n",
        "proporcao_sexo_por_regiao_tipo_faixa_etaria['Proporcao_Homens'] = proporcao_sexo_por_regiao_tipo_faixa_etaria['MASCULINO'] / (proporcao_sexo_por_regiao_tipo_faixa_etaria['FEMININO'] + proporcao_sexo_por_regiao_tipo_faixa_etaria['MASCULINO'])\n",
        "\n",
        "# Exibindo o resultado\n",
        "print(proporcao_sexo_por_regiao_tipo_faixa_etaria[['Proporcao_Mulheres', 'Proporcao_Homens']])"
      ],
      "metadata": {
        "colab": {
          "base_uri": "https://localhost:8080/"
        },
        "id": "qGWQgyuKc26D",
        "outputId": "8d635bb8-e6c1-4919-8133-4a7e3b697923"
      },
      "execution_count": 11,
      "outputs": [
        {
          "output_type": "stream",
          "name": "stdout",
          "text": [
            "sexo                                 Proporcao_Mulheres  Proporcao_Homens\n",
            "regiao        tipo_faixa_etaria                                          \n",
            "Interior      Adolescentes                     0.524419          0.475581\n",
            "              Adultos de meia-idade            0.494581          0.505419\n",
            "              Crianças                         0.552846          0.447154\n",
            "              Idosos                           0.578465          0.421535\n",
            "              Jovens adultos                   0.608276          0.391724\n",
            "Metropolitana Adolescentes                     0.516874          0.483126\n",
            "              Adultos de meia-idade            0.567669          0.432331\n",
            "              Crianças                         0.503346          0.496654\n",
            "              Idosos                           0.627493          0.372507\n",
            "              Jovens adultos                   0.557345          0.442655\n"
          ]
        }
      ]
    }
  ],
  "metadata": {
    "colab": {
      "provenance": [],
      "authorship_tag": "ABX9TyN59KUns3Ofvom8lv+7rKTK",
      "include_colab_link": true
    },
    "kernelspec": {
      "display_name": "Python 3",
      "name": "python3"
    },
    "language_info": {
      "name": "python"
    }
  },
  "nbformat": 4,
  "nbformat_minor": 0
}